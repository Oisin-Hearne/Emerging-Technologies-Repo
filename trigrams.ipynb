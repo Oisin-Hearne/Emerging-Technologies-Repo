{
 "cells": [
  {
   "cell_type": "markdown",
   "id": "fd5b01d6",
   "metadata": {},
   "source": [
    "## Task 1 - Third-Order Letter Approximation Model\n",
    "\n",
    "The below code takes in all of the txt files in texts/, filtering out special & numerical characters, then counting how often each sequence of three characters appears and compiles it into a dictionary.\n",
    "\n",
    "<hr>"
   ]
  },
  {
   "cell_type": "code",
   "execution_count": null,
   "id": "7b1f0f17",
   "metadata": {},
   "outputs": [],
   "source": [
    "import os\n",
    "import re\n",
    "\n",
    "texts = []\n",
    "\n",
    "for title in os.scandir(\"texts\"): # [2]\n",
    "    if((title.name.find(\".txt\")) != -1): # Only attempt to open + add the text file if it's a .txt\n",
    "        fileContent = open(title) # [1]\n",
    "        texts.append(fileContent.read()) # Add it to the texts list.\n",
    "        fileContent.close()\n",
    "\n",
    "for t in texts:\n",
    "    print(sanitizeText(t))"
   ]
  },
  {
   "cell_type": "code",
   "execution_count": 16,
   "id": "718545fc",
   "metadata": {},
   "outputs": [],
   "source": [
    "def sanitizeText(text):\n",
    "    preamble = \" ***\" # Ending of the preamble\n",
    "    postamble = \"*** END OF \" # Beginning of the postamble.\n",
    "\n",
    "    # [3] Strips out the preamble and postamble from a text by\n",
    "    # creating a string in between the preamble and postamble variables.\n",
    "    sanitizedText = (t[t.index(preamble)+len(preamble):t.index(postamble)]) \n",
    "    sanitizedText = re.sub(\"[^a-zA-Z\\\\s.]\", \"\", sanitizedText) # [4]\n",
    "\n",
    "    return sanitizedText.upper()"
   ]
  },
  {
   "cell_type": "markdown",
   "id": "4049ee20",
   "metadata": {},
   "source": [
    "## Task 2 - Third-Order Letter Approximation Generation\n",
    "\n",
    "<hr>"
   ]
  },
  {
   "cell_type": "code",
   "execution_count": null,
   "id": "3c12d8e1",
   "metadata": {},
   "outputs": [],
   "source": []
  },
  {
   "cell_type": "markdown",
   "id": "0571f385",
   "metadata": {},
   "source": [
    "## Task 3 - Analyze The Model\n",
    "\n",
    "<hr>"
   ]
  },
  {
   "cell_type": "code",
   "execution_count": null,
   "id": "0f0aac17",
   "metadata": {},
   "outputs": [],
   "source": []
  },
  {
   "cell_type": "markdown",
   "id": "16dc2df3",
   "metadata": {},
   "source": [
    "## Task 4 - Export Model\n",
    "\n",
    "<hr>"
   ]
  },
  {
   "cell_type": "code",
   "execution_count": null,
   "id": "ddb05fae",
   "metadata": {},
   "outputs": [],
   "source": []
  },
  {
   "cell_type": "markdown",
   "id": "a0b1d09f",
   "metadata": {},
   "source": [
    "## References\n",
    "\n",
    "- [1] - Reading text files in Python: https://www.w3schools.com/python/python_file_open.\n",
    "- [2] - Using Python's OS Module: https://www.geeksforgeeks.org/how-to-iterate-over-files-in-directory-using-python/\n",
    "- [3] - Finding a string between two substrings (used for removing Pre/Postamble): https://stackoverflow.com/a/51456576\n",
    "- [4] - Using regex in Python: https://www.w3schools.com/python/python_regex.asp\n",
    "- \n",
    "- \n",
    "- \n",
    "\n",
    "<hr>"
   ]
  }
 ],
 "metadata": {
  "kernelspec": {
   "display_name": "Python 3 (ipykernel)",
   "language": "python",
   "name": "python3"
  },
  "language_info": {
   "codemirror_mode": {
    "name": "ipython",
    "version": 3
   },
   "file_extension": ".py",
   "mimetype": "text/x-python",
   "name": "python",
   "nbconvert_exporter": "python",
   "pygments_lexer": "ipython3",
   "version": "3.12.4"
  }
 },
 "nbformat": 4,
 "nbformat_minor": 5
}
